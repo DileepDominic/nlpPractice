{
 "cells": [
  {
   "cell_type": "code",
   "execution_count": 1,
   "id": "ffa7bda9",
   "metadata": {},
   "outputs": [],
   "source": [
    "from textblob import TextBlob"
   ]
  },
  {
   "cell_type": "code",
   "execution_count": 2,
   "id": "3dd70c2d",
   "metadata": {},
   "outputs": [],
   "source": [
    "blob = TextBlob(\"This is sentence one. This is sentence two. It's a rainy day.\")"
   ]
  },
  {
   "cell_type": "code",
   "execution_count": 4,
   "id": "a42e6ac3",
   "metadata": {},
   "outputs": [
    {
     "data": {
      "text/plain": [
       "WordList(['analytics vidhya', 'great platform', 'data science'])"
      ]
     },
     "execution_count": 4,
     "metadata": {},
     "output_type": "execute_result"
    }
   ],
   "source": [
    "blob.noun_phrases"
   ]
  },
  {
   "cell_type": "code",
   "execution_count": null,
   "id": "0fc1e0cc",
   "metadata": {},
   "outputs": [],
   "source": []
  }
 ],
 "metadata": {
  "kernelspec": {
   "display_name": "Python 3",
   "language": "python",
   "name": "python3"
  },
  "language_info": {
   "codemirror_mode": {
    "name": "ipython",
    "version": 3
   },
   "file_extension": ".py",
   "mimetype": "text/x-python",
   "name": "python",
   "nbconvert_exporter": "python",
   "pygments_lexer": "ipython3",
   "version": "3.8.8"
  }
 },
 "nbformat": 4,
 "nbformat_minor": 5
}
